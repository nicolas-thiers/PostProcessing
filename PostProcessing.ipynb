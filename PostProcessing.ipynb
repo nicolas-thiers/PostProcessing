{
 "cells": [
  {
   "cell_type": "code",
   "execution_count": 3,
   "metadata": {
    "collapsed": false
   },
   "outputs": [],
   "source": [
    "import numpy\n",
    "from matplotlib import pyplot\n",
    "%matplotlib inline\n",
    "\n",
    "from matplotlib import rcParams\n",
    "rcParams['font.family'] = 'serif'\n",
    "rcParams['font.size'] = 14"
   ]
  },
  {
   "cell_type": "code",
   "execution_count": 4,
   "metadata": {
    "collapsed": false
   },
   "outputs": [
    {
     "name": "stdout",
     "output_type": "stream",
     "text": [
      "  0.000      0.000      0.000      0.000      0.000      0.000    \r\n",
      "  0.000      0.000      0.000      0.000      0.000      0.000    \r\n",
      " -1.250000E-01 -1.350000E-01 -5.000000E-01  0.000000E+00  0.000000E+00  0.000000E+00  4.582565E-02  5.000000E-01\r\n",
      " -1.249709E-01 -1.350000E-01 -5.000000E-01  0.000000E+00  0.000000E+00  0.000000E+00  4.582633E-02  4.974386E-01\r\n"
     ]
    }
   ],
   "source": [
    "# Determinar la fila donde comienza la data\n",
    "!head -n 411 high_ray.fld02 | tail -n 4"
   ]
  },
  {
   "cell_type": "code",
   "execution_count": 5,
   "metadata": {
    "collapsed": false
   },
   "outputs": [],
   "source": [
    "def load_data(file_name,headers):\n",
    "    \"\"\"\n",
    "    Load data from an external file.\n",
    "    \n",
    "    Arguments:\n",
    "    ----------\n",
    "    file_name (str) : name of the data file to load\n",
    "    headers (int)   : row where data starts (skips headers).\n",
    "    \n",
    "    Returns:\n",
    "    --------\n",
    "    data (array)  : array with loaded data.\n",
    "    \"\"\"\n",
    "    data = numpy.loadtxt(fname=file_name,skiprows=headers)\n",
    "    return data"
   ]
  },
  {
   "cell_type": "code",
   "execution_count": 6,
   "metadata": {
    "collapsed": false
   },
   "outputs": [],
   "source": [
    "data = load_data('high_ray.fld02',409)"
   ]
  },
  {
   "cell_type": "code",
   "execution_count": 81,
   "metadata": {
    "collapsed": true
   },
   "outputs": [],
   "source": [
    "#data_rms = load_data('rmshigh_ray.fld08',409)"
   ]
  },
  {
   "cell_type": "code",
   "execution_count": 82,
   "metadata": {
    "collapsed": true
   },
   "outputs": [],
   "source": [
    "#data_avg = load_data('avghigh_ray.fld08',409)"
   ]
  },
  {
   "cell_type": "code",
   "execution_count": 7,
   "metadata": {
    "collapsed": false
   },
   "outputs": [
    {
     "name": "stdout",
     "output_type": "stream",
     "text": [
      "[[-0.125      -0.135      -0.5        ...,  0.          0.04582565  0.5       ]\n",
      " [-0.1249709  -0.135      -0.5        ...,  0.          0.04582633\n",
      "   0.4974386 ]\n",
      " [-0.1249062  -0.135      -0.5        ...,  0.          0.04582755\n",
      "   0.4917516 ]\n",
      " ..., \n",
      " [ 0.1249062   0.135       0.5        ...,  0.          0.04582755\n",
      "  -0.4917516 ]\n",
      " [ 0.1249709   0.135       0.5        ...,  0.          0.04582633\n",
      "  -0.4974386 ]\n",
      " [ 0.125       0.135       0.5        ...,  0.          0.04582565 -0.5       ]]\n"
     ]
    }
   ],
   "source": [
    "print(data)\n",
    "#print(data_avg)\n",
    "#print(data_rms)"
   ]
  },
  {
   "cell_type": "code",
   "execution_count": 45,
   "metadata": {
    "collapsed": false
   },
   "outputs": [],
   "source": [
    "def slice_plane(data,a,b,c,d):\n",
    "    \"\"\"\n",
    "    select data over the plane:\n",
    "        pi : a*x + b*y + c*z = d.\n",
    "    \n",
    "    Arguments:\n",
    "    ----------\n",
    "    data (array)  : Data to slice\n",
    "    a (real)      : x-component of the plane's normal vector.\n",
    "    b (real)      : y-component of the plane's normal vector\n",
    "    c (real)      : z-component of the plane's normal vector\n",
    "    d (real)      : position parameter\n",
    "    \n",
    "    Returns:\n",
    "    --------\n",
    "    slice (array) : filtered data.\n",
    "    \"\"\"\n",
    "    slice = data[a*data[:,0]+b*data[:,1]+c*data[:,2] == d]\n",
    "    return slice"
   ]
  },
  {
   "cell_type": "code",
   "execution_count": 53,
   "metadata": {
    "collapsed": false
   },
   "outputs": [
    {
     "name": "stdout",
     "output_type": "stream",
     "text": [
      "[[-0.125      -0.135       0.         ...,  0.         -0.02715259  0.5       ]\n",
      " [-0.1249709  -0.135       0.         ...,  0.         -0.02715256\n",
      "   0.4993312 ]\n",
      " [-0.1249062  -0.135       0.         ...,  0.         -0.02715253\n",
      "   0.4978462 ]\n",
      " ..., \n",
      " [ 0.1249062   0.135       0.         ...,  0.         -0.02715253\n",
      "  -0.4978462 ]\n",
      " [ 0.1249709   0.135       0.         ...,  0.         -0.02715256\n",
      "  -0.4993312 ]\n",
      " [ 0.125       0.135       0.         ...,  0.         -0.02715259 -0.5       ]]\n"
     ]
    }
   ],
   "source": [
    "slice = slice_plane(data,0,0,1,0)\n",
    "print(slice)"
   ]
  },
  {
   "cell_type": "code",
   "execution_count": 54,
   "metadata": {
    "collapsed": false
   },
   "outputs": [],
   "source": [
    "mesh_x = slice[:,0]\n",
    "mesh_y = slice[:,1]\n",
    "mesh_z = slice[:,2]\n",
    "U = slice[:,3]\n",
    "V = slice[:,4]\n",
    "W = slice[:,5]\n",
    "P = slice[:,6]\n",
    "T = slice[:,7]"
   ]
  },
  {
   "cell_type": "code",
   "execution_count": 29,
   "metadata": {
    "collapsed": false
   },
   "outputs": [],
   "source": []
  },
  {
   "cell_type": "code",
   "execution_count": 78,
   "metadata": {
    "collapsed": false
   },
   "outputs": [],
   "source": [
    "def make_plot(x,y,z,number_of_level,scale_factor):\n",
    "    x_ticks = numpy.arange(min(x), max(x)+0.0000001, (max(x)-min(x))/5)\n",
    "    y_ticks = numpy.arange(min(y), max(y)+0.0000001, (max(y)-min(y))/5)\n",
    "    levels = numpy.arange(min(z), max(z), (max(z)-min(z))/number_of_level)\n",
    "    pyplot.figure(figsize=(max(x)*scale_factor,max(y)*scale_factor))\n",
    "#    pyplot.title('Reduced Temperature at mid-large plane. \\n')\n",
    "    pyplot.xlabel('x [-]')\n",
    "    pyplot.ylabel('z [-]')\n",
    "    pyplot.xlim([min(x),max(x)])\n",
    "    pyplot.ylim([min(y),max(y)])\n",
    "    pyplot.xticks(x_ticks, rotation=75)\n",
    "    pyplot.yticks(y_ticks)\n",
    "    pyplot.grid()\n",
    "    pyplot.tricontourf(x,y,z,\n",
    "                       levels=levels,\n",
    "                       cmap='coolwarm')\n",
    "    pyplot.colorbar()\n",
    "#    pyplot.tricontour(x[:],y[:],z[:],\n",
    "#                      levels = 10,\n",
    "#                      ls='-.',\n",
    "#                      lw=2,\n",
    "#                      colors='black');\n",
    "    #pyplot.savefig('Temp.png')\n",
    "    return"
   ]
  },
  {
   "cell_type": "code",
   "execution_count": 79,
   "metadata": {
    "collapsed": false
   },
   "outputs": [
    {
     "data": {
      "image/png": "[encoded data removed]",
      "text/plain": [
       "<matplotlib.figure.Figure at 0x7f97e87626d8>"
      ]
     },
     "metadata": {},
     "output_type": "display_data"
    }
   ],
   "source": [
    "make_plot(mesh_x,mesh_y,T,10,30)"
   ]
  },
  {
   "cell_type": "code",
   "execution_count": null,
   "metadata": {
    "collapsed": true
   },
   "outputs": [],
   "source": []
  }
 ],
 "metadata": {
  "anaconda-cloud": {},
  "kernelspec": {
   "display_name": "Python 3",
   "language": "python",
   "name": "python3"
  },
  "language_info": {
   "codemirror_mode": {
    "name": "ipython",
    "version": 3
   },
   "file_extension": ".py",
   "mimetype": "text/x-python",
   "name": "python",
   "nbconvert_exporter": "python",
   "pygments_lexer": "ipython3",
   "version": "3.5.2"
  }
 },
 "nbformat": 4,
 "nbformat_minor": 2
}
